{
  "cells": [
    {
      "cell_type": "markdown",
      "metadata": {
        "id": "XXojSzpfMnVL"
      },
      "source": [
        "## **Exemplo de uso de IA Generativa com modelos Transformers**\n",
        "\n",
        "Um modelo grande de linguagem (LLM: Large Language Model) é um modelo de inteligência artificial que pode reconhecer e gerar texto, entre outras tarefas. Os LLMs são treinados em enormes conjuntos de dados.\n",
        "\n",
        "## **Transformers**\n",
        "\n",
        "Um modelo transformer é uma rede neural que aprende o contexto e, assim, o significado com base no monitoramento de relações em dados sequenciais. Essa arquitetura inovadora ampliou sua aplicação após o artigo \"Attention Is All You Need\", de 2017.\n",
        "\n",
        "Disponível em: https://arxiv.org/abs/1706.03762\n"
      ]
    },
    {
      "cell_type": "markdown",
      "source": [
        "**Hugging Face**\n",
        "\n",
        "O Hugging Face Hub é uma plataforma com mais de 900 mil modelos, 200 mil conjuntos de dados e 300 mil demos em que as pessoas podem colaborar facilmente em seus fluxos de trabalho de ML. O Hub funciona como um lugar central onde qualquer um pode compartilhar, explorar, descobrir e experimentar o Machine Learning de código aberto.\n",
        "\n",
        "https://huggingface.co/\n",
        "\n",
        "\n",
        "\n"
      ],
      "metadata": {
        "id": "TUmpYc76R7l_"
      }
    },
    {
      "cell_type": "code",
      "source": [
        "# Instalação das bibliotecas necesárias para testar modelos do hugging face\n",
        "!pip install huggingface_hub\n",
        "!pip install transformers"
      ],
      "metadata": {
        "id": "i2MxZO9aR7BE"
      },
      "execution_count": null,
      "outputs": []
    },
    {
      "cell_type": "code",
      "source": [
        "# Importando as bibliotecas e pacotes\n",
        "import huggingface_hub\n",
        "\n",
        "import torch\n",
        "import warnings\n",
        "warnings.filterwarnings('ignore')"
      ],
      "metadata": {
        "id": "9vNWREdBTvuk"
      },
      "execution_count": null,
      "outputs": []
    },
    {
      "cell_type": "code",
      "source": [
        "# Criando as variáveis para verificação do hardware disponível.\n",
        "# Para melhor desempenho, recomenda-se trabalhar com GPU.\n",
        "device = 'cuda:0' if torch.cuda.is_available() else 'cpu'\n",
        "torch_dtype = torch.float16 if torch.cuda.is_available() else torch.float32"
      ],
      "metadata": {
        "id": "lLT9PBe8S9OO"
      },
      "execution_count": null,
      "outputs": []
    },
    {
      "cell_type": "markdown",
      "source": [
        "O objeto mais básico na biblioteca Transformers é a função **pipeline**() .\n",
        "\n",
        "Ela conecta o modelo com seus parâmetros básicos necessários de pré e pós-processamento, permitindo-nos inserir textos e obter uma resposta inteligível."
      ],
      "metadata": {
        "id": "7LElH2B-TfPM"
      }
    },
    {
      "cell_type": "code",
      "source": [
        "from transformers import pipeline"
      ],
      "metadata": {
        "id": "U6nBIq2Dz5zt"
      },
      "execution_count": null,
      "outputs": []
    },
    {
      "cell_type": "markdown",
      "source": [
        "## **Exemplos**\n",
        "\n",
        "- **Classificação de textos** (text-classification)\n",
        "- Análise de sentimentos"
      ],
      "metadata": {
        "id": "iiucmuFEcTBS"
      }
    },
    {
      "cell_type": "code",
      "source": [
        "task = 'text-classification'\n",
        "model ='SamLowe/roberta-base-go_emotions' # Pesquise o modelo no Hugging Face"
      ],
      "metadata": {
        "id": "E418SuMQcRXH"
      },
      "execution_count": null,
      "outputs": []
    },
    {
      "cell_type": "code",
      "execution_count": null,
      "metadata": {
        "id": "TBj-UOenMnVQ"
      },
      "outputs": [],
      "source": [
        "classifier = pipeline(task=task,\n",
        "                      model=model,\n",
        "                      top_k=5, # Ranking\n",
        "                      device=device,\n",
        "                      torch_dtype=torch_dtype)"
      ]
    },
    {
      "cell_type": "code",
      "source": [
        "sentences = ['I wanna know have you ever seen the rain'] # Insira aqui a(s) sentença(s) a ser(em) classificada(s)\n",
        "model_outputs = classifier(sentences)\n",
        "model_outputs"
      ],
      "metadata": {
        "id": "8Np8PA3zVowg"
      },
      "execution_count": null,
      "outputs": []
    },
    {
      "cell_type": "markdown",
      "source": [
        "**Zero-Shot Classification**\n",
        "\n",
        "É a tarefa de prever uma classe que não foi vista pelo modelo durante o treinamento."
      ],
      "metadata": {
        "id": "27JrxEhceDbC"
      }
    },
    {
      "cell_type": "code",
      "source": [
        "task = 'zero-shot-classification'\n",
        "model = 'valhalla/distilbart-mnli-12-1' # Pesquise o modelo no Hugging Face"
      ],
      "metadata": {
        "id": "mv5Q_DRUdqPd"
      },
      "execution_count": null,
      "outputs": []
    },
    {
      "cell_type": "code",
      "source": [
        "# sequence_to_classify = \"one day I will see the world\"\n",
        "# candidate_labels = ['travel', 'cooking', 'dancing']\n",
        "# classifier(sequence_to_classify, candidate_labels)\n",
        "#{'labels': ['travel', 'dancing', 'cooking'],\n",
        "# 'scores': [0.9938651323318481, 0.0032737774308770895, 0.002861034357920289],\n",
        "# 'sequence': 'one day I will see the world'}"
      ],
      "metadata": {
        "id": "2zPY04wyfkhD"
      },
      "execution_count": null,
      "outputs": []
    },
    {
      "cell_type": "code",
      "execution_count": null,
      "metadata": {
        "id": "EMSv6MxKMnVS"
      },
      "outputs": [],
      "source": [
        "classifier_zero_shot = pipeline(task=task,\n",
        "                      model=model,\n",
        "                      device=device,\n",
        "                      torch_dtype=torch_dtype)"
      ]
    },
    {
      "cell_type": "code",
      "source": [
        "sentence_to_classify = 'The greatest gift is the ability to forget the bad things and focus on the good.'\n",
        "candidate_labels = ['education', 'politics', 'business']"
      ],
      "metadata": {
        "id": "hXBRvFufelwJ"
      },
      "execution_count": null,
      "outputs": []
    },
    {
      "cell_type": "code",
      "source": [
        "classifier_zero_shot(candidate_labels, sentence_to_classify)"
      ],
      "metadata": {
        "id": "X9QST4-Heg8d"
      },
      "execution_count": null,
      "outputs": []
    },
    {
      "cell_type": "markdown",
      "source": [
        "**Geração de textos** (text-generation)"
      ],
      "metadata": {
        "id": "h0nm0asmjIx1"
      }
    },
    {
      "cell_type": "code",
      "source": [
        "task = 'text-generation'\n",
        "model = 'openai-community/gpt2' # Pesquise o modelo no Hugging Face"
      ],
      "metadata": {
        "id": "d1BXVfsJjNno"
      },
      "execution_count": null,
      "outputs": []
    },
    {
      "cell_type": "code",
      "execution_count": null,
      "metadata": {
        "id": "Ou0sZcj7MnVS"
      },
      "outputs": [],
      "source": [
        "generator = pipeline(task,\n",
        "                     model=model,\n",
        "                     device=device,\n",
        "                     torch_dtype=torch_dtype\n",
        "                     )"
      ]
    },
    {
      "cell_type": "code",
      "source": [
        "# max_lenght (limite de tamanho de cada sentença gerada)\n",
        "# num_return_sequences (número de sentenças geradas)\n",
        "# Frase de exemplo:\n",
        "generator('The meaning of life is', max_length=25, num_return_sequences=8)"
      ],
      "metadata": {
        "id": "wTPyM9mMj9UR"
      },
      "execution_count": null,
      "outputs": []
    },
    {
      "cell_type": "markdown",
      "source": [
        "**Perguntas e respostas** (task: question-answering)\n"
      ],
      "metadata": {
        "id": "sWbEfyS-xMSE"
      }
    },
    {
      "cell_type": "code",
      "source": [
        "task = 'question-answering'\n",
        "model = 'distilbert/distilbert-base-cased-distilled-squad'"
      ],
      "metadata": {
        "id": "Cn6uhzauCFDp"
      },
      "execution_count": null,
      "outputs": []
    },
    {
      "cell_type": "code",
      "execution_count": null,
      "metadata": {
        "id": "on7olMgJMnVU"
      },
      "outputs": [],
      "source": [
        "question_answerer = pipeline(task = task,\n",
        "                             model = model,\n",
        "                             device=device,\n",
        "                             torch_dtype=torch_dtype\n",
        "                             )"
      ]
    },
    {
      "cell_type": "code",
      "source": [
        "question_answerer(\n",
        "    question=input(\"Insira a pergunta: \"),\n",
        "    context=\"Brasília é a capital do Brasil\",\n",
        ")"
      ],
      "metadata": {
        "id": "051gUyvM2Rem"
      },
      "execution_count": null,
      "outputs": []
    },
    {
      "cell_type": "markdown",
      "source": [
        "**Sumarização** (task: summarization)"
      ],
      "metadata": {
        "id": "o0zZE4uwwZXt"
      }
    },
    {
      "cell_type": "code",
      "source": [
        "task = 'summarization'\n",
        "model = 'facebook/bart-large-cnn'"
      ],
      "metadata": {
        "id": "sci5isbSDLdj"
      },
      "execution_count": null,
      "outputs": []
    },
    {
      "cell_type": "code",
      "source": [
        "summarizer = pipeline(task=task,\n",
        "                      model=model,\n",
        "                      min_length=10,\n",
        "                      max_length=30,\n",
        "                      device=device,\n",
        "                      torch_dtype=torch_dtype\n",
        "                      )"
      ],
      "metadata": {
        "id": "lO3849om2_Sc"
      },
      "execution_count": null,
      "outputs": []
    },
    {
      "cell_type": "code",
      "source": [
        "summarizer(\n",
        "    \"\"\"\n",
        "    America has changed dramatically during recent years. Not only has the number of\n",
        "    graduates in traditional engineering disciplines such as mechanical, civil,\n",
        "    electrical, chemical, and aeronautical engineering declined, but in most of\n",
        "    the premier American universities engineering curricula now concentrate on\n",
        "    and encourage largely the study of engineering science. As a result, there\n",
        "    are declining offerings in engineering subjects dealing with infrastructure,\n",
        "    the environment, and related issues, and greater concentration on high\n",
        "    technology subjects, largely supporting increasingly complex scientific\n",
        "    developments. While the latter is important, it should not be at the expense\n",
        "    of more traditional engineering.\n",
        "\n",
        "    Rapidly developing economies such as China and India, as well as other\n",
        "    industrial countries in Europe and Asia, continue to encourage and advance\n",
        "    the teaching of engineering. Both China and India, respectively, graduate\n",
        "    six and eight times as many traditional engineers as does the United States.\n",
        "    Other industrial countries at minimum maintain their output, while America\n",
        "    suffers an increasingly serious decline in the number of engineering graduates\n",
        "    and a lack of well-educated engineers.\n",
        "\"\"\"\n",
        ")"
      ],
      "metadata": {
        "id": "Dan6Q-q52siw"
      },
      "execution_count": null,
      "outputs": []
    },
    {
      "cell_type": "markdown",
      "source": [
        "**Tradução** (task: translation)"
      ],
      "metadata": {
        "id": "IqgfJVQ-x6lj"
      }
    },
    {
      "cell_type": "code",
      "source": [
        "task = 'translation'\n",
        "model = 'Helsinki-NLP/opus-mt-de-en'"
      ],
      "metadata": {
        "id": "O3r9_a2DDsBr"
      },
      "execution_count": null,
      "outputs": []
    },
    {
      "cell_type": "code",
      "execution_count": null,
      "metadata": {
        "id": "OFqy-iJ-MnVV"
      },
      "outputs": [],
      "source": [
        "translator = pipeline(task=task,\n",
        "                      model=model,\n",
        "                      device=device,\n",
        "                      torch_dtype=torch_dtype)"
      ]
    },
    {
      "cell_type": "code",
      "source": [
        "translator(\n",
        "    '''\n",
        "    Der Weg des rechtschaffenen Menschen ist von allen Seiten von den Ungerechtigkeiten der Egoisten\n",
        "    und der Tyrannei der Bösen gesäumt.\n",
        "    Gesegnet sei derjenige, der im Namen der Nächstenliebe und des guten Willens die Schwachen\n",
        "    durch das Tal der Dunkelheit führt.\n",
        "    Denn er ist wahrhaftig der Beschützer seines Bruders und der Finder verlorener Kinder.\n",
        "    '''\n",
        "    )"
      ],
      "metadata": {
        "id": "K-em04pN3Kz6"
      },
      "execution_count": null,
      "outputs": []
    },
    {
      "cell_type": "markdown",
      "source": [
        "**Introdução ao Lang Chain**\n",
        "\n",
        "O LangChain é uma estrutura de código aberto para criar aplicações baseadas em grandes modelos de linguagem (LLMs). Os LLMs são grandes modelos de aprendizado profundo pré-treinados em grandes quantidades de dados que podem gerar respostas às consultas do usuário, por exemplo, responder perguntas ou criar imagens a partir de prompts baseados em texto. O LangChain fornece ferramentas e abstrações para melhorar a personalização, a precisão e a relevância das informações que os modelos geram.\n",
        "\n",
        "Fonte:\n",
        "https://aws.amazon.com/pt/what-is/langchain/\n",
        "\n",
        "Documentação:\n",
        "https://www.langchain.com/"
      ],
      "metadata": {
        "id": "Cqc8Eac43dEq"
      }
    },
    {
      "cell_type": "markdown",
      "source": [
        "![image.png](data:image/png;base64,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)"
      ],
      "metadata": {
        "id": "PJUU0LJK6pcD"
      }
    },
    {
      "cell_type": "code",
      "source": [
        "!pip install langchain_huggingface"
      ],
      "metadata": {
        "id": "86U_bIs54sn-"
      },
      "execution_count": null,
      "outputs": []
    },
    {
      "cell_type": "code",
      "source": [
        "# Testando a API do Hugging Face\n",
        "from langchain_huggingface import HuggingFaceEndpoint"
      ],
      "metadata": {
        "id": "dN5CMPt84hef"
      },
      "execution_count": null,
      "outputs": []
    },
    {
      "cell_type": "code",
      "source": [
        "# API token gerado no Hugging Face\n",
        "huggingfacehub_api_token = ''"
      ],
      "metadata": {
        "id": "uNUG0GfZ3g5h"
      },
      "execution_count": null,
      "outputs": []
    },
    {
      "cell_type": "code",
      "source": [
        "# Escolhendo o modelo\n",
        "llm_hface = HuggingFaceEndpoint(repo_id='tiiuae/falcon-7b-instruct',\n",
        "                          huggingfacehub_api_token=huggingfacehub_api_token)"
      ],
      "metadata": {
        "id": "IZe2aQ335eP3"
      },
      "execution_count": null,
      "outputs": []
    },
    {
      "cell_type": "code",
      "source": [
        "# Fazendo a previsão das palavras baseadas na frase abaixo:\n",
        "question = 'How can I retain learning?'\n",
        "output = llm_hface.invoke(question)\n",
        "print(output)"
      ],
      "metadata": {
        "id": "TlloZK4W5lFn"
      },
      "execution_count": null,
      "outputs": []
    },
    {
      "cell_type": "markdown",
      "source": [
        "**OPCIONAL**\n",
        "\n",
        "Testando a API da Open AI\n"
      ],
      "metadata": {
        "id": "3slh798m6VIz"
      }
    },
    {
      "cell_type": "code",
      "source": [
        "!pip install langchain_openai"
      ],
      "metadata": {
        "id": "v9pWO7r_7s7O"
      },
      "execution_count": null,
      "outputs": []
    },
    {
      "cell_type": "code",
      "source": [
        "from langchain_openai import OpenAI"
      ],
      "metadata": {
        "id": "AgKGku9C7ZaE"
      },
      "execution_count": null,
      "outputs": []
    },
    {
      "cell_type": "code",
      "source": [
        "llm_openAI = OpenAI(model=\"gpt-3.5-turbo-instruct\",\n",
        "                    api_key='')"
      ],
      "metadata": {
        "id": "5vegugBN6TMH"
      },
      "execution_count": null,
      "outputs": []
    },
    {
      "cell_type": "code",
      "source": [
        "question = 'Are you entertained?'\n",
        "output = llm_openAI.invoke(question)\n",
        "print(output)"
      ],
      "metadata": {
        "id": "vliYAyay5u28"
      },
      "execution_count": null,
      "outputs": []
    },
    {
      "cell_type": "markdown",
      "source": [
        "Um Prompt Template do Lang Chain permite adicionar contextos, exemplos e instruções ao modelo."
      ],
      "metadata": {
        "id": "dA0C6ZyG-pMQ"
      }
    },
    {
      "cell_type": "code",
      "source": [
        "!pip install langchain"
      ],
      "metadata": {
        "id": "_K0rdMRnHPRT"
      },
      "execution_count": null,
      "outputs": []
    },
    {
      "cell_type": "code",
      "source": [
        "from langchain import PromptTemplate"
      ],
      "metadata": {
        "id": "bdltlYku-QvX"
      },
      "execution_count": null,
      "outputs": []
    },
    {
      "cell_type": "code",
      "source": [
        "template = \"You are an artificial intelligence assistant, answer the question. {question}\"\n",
        "# Criando o prompt template\n",
        "prompt = PromptTemplate(template=template,\n",
        "                        input_variables=['question'])"
      ],
      "metadata": {
        "id": "fOKdGdB08rq4"
      },
      "execution_count": null,
      "outputs": []
    },
    {
      "cell_type": "code",
      "source": [
        "# Utilizando o modelo LLM\n",
        "llm = HuggingFaceEndpoint(repo_id='tiiuae/falcon-7b-instruct',\n",
        "                          huggingfacehub_api_token=huggingfacehub_api_token)"
      ],
      "metadata": {
        "id": "RnYWkUPr-6VD"
      },
      "execution_count": null,
      "outputs": []
    },
    {
      "cell_type": "code",
      "source": [
        "# Criando a integração do LLM com o prompt template\n",
        "llm_chain = prompt | llm"
      ],
      "metadata": {
        "id": "yWHpAlZ-_E1j"
      },
      "execution_count": null,
      "outputs": []
    },
    {
      "cell_type": "code",
      "source": [
        "question = 'Can you tell us a joke:'\n",
        "output = llm_chain.invoke({'question': question})\n",
        "print(output)"
      ],
      "metadata": {
        "id": "4pBLEiIE_Ntr"
      },
      "execution_count": null,
      "outputs": []
    },
    {
      "cell_type": "code",
      "source": [
        "!pip install langchain"
      ],
      "metadata": {
        "id": "LxZD6JTV_75T"
      },
      "execution_count": null,
      "outputs": []
    },
    {
      "cell_type": "code",
      "source": [
        "!pip install langchain_community"
      ],
      "metadata": {
        "id": "fbxxlD-6AFaL"
      },
      "execution_count": null,
      "outputs": []
    },
    {
      "cell_type": "code",
      "source": [
        "from langchain.chat_models import ChatOpenAI\n",
        "from langchain.prompts import ChatPromptTemplate"
      ],
      "metadata": {
        "id": "tVG0E8s5_2jT"
      },
      "execution_count": null,
      "outputs": []
    },
    {
      "cell_type": "code",
      "source": [
        "# Define an OpenAI chat model\n",
        "llm = ChatOpenAI(model=\"gpt-4o-mini\",\n",
        "                 temperature=0,\n",
        "                 api_key='')\n",
        "\n",
        "prompt_template = ChatPromptTemplate.from_messages(\n",
        "    [\n",
        "        (\"system\", \"You are a helpful assistant.\"),\n",
        "        (\"human\", \"Respond to question: {question}\")\n",
        "    ]\n",
        ")\n",
        "\n",
        "# Chain the prompt template and model, and invoke the chain\n",
        "llm_chain = prompt_template | llm\n",
        "response = llm_chain.invoke({\"question\": \"How can I retain learning?\"})\n",
        "print(response.content)"
      ],
      "metadata": {
        "id": "fHkMFeBV_lWE"
      },
      "execution_count": null,
      "outputs": []
    },
    {
      "cell_type": "code",
      "source": [
        "!pip install google-generativeai"
      ],
      "metadata": {
        "id": "XoLFMfGCm1ku"
      },
      "execution_count": null,
      "outputs": []
    },
    {
      "cell_type": "code",
      "source": [
        "import google.generativeai as genai"
      ],
      "metadata": {
        "id": "A3HVaDgXmylG"
      },
      "execution_count": null,
      "outputs": []
    },
    {
      "cell_type": "code",
      "source": [
        "genai.configure(api_key='')"
      ],
      "metadata": {
        "id": "ar7uYucGnC6V"
      },
      "execution_count": null,
      "outputs": []
    },
    {
      "cell_type": "code",
      "source": [
        "model = genai.GenerativeModel('gemini-pro')"
      ],
      "metadata": {
        "id": "8jdZ7lfinhL7"
      },
      "execution_count": null,
      "outputs": []
    },
    {
      "cell_type": "code",
      "source": [
        "response = model.generate_content('INSIRA AQUI A SUA PERGUNTA')"
      ],
      "metadata": {
        "id": "uqrYYExrntpZ"
      },
      "execution_count": null,
      "outputs": []
    },
    {
      "cell_type": "code",
      "source": [
        "print(response.text)"
      ],
      "metadata": {
        "id": "ywYrGJZmmvYt"
      },
      "execution_count": null,
      "outputs": []
    },
    {
      "cell_type": "markdown",
      "source": [
        "## **Document loaders**"
      ],
      "metadata": {
        "id": "wLuh5-26BFdu"
      }
    },
    {
      "cell_type": "code",
      "source": [
        "!pip install pypdf"
      ],
      "metadata": {
        "id": "7Bz3Yt0WDDrM"
      },
      "execution_count": null,
      "outputs": []
    },
    {
      "cell_type": "code",
      "source": [
        "from langchain.document_loaders import PyPDFLoader\n",
        "from langchain.text_splitter import CharacterTextSplitter\n",
        "from langchain.embeddings import OpenAIEmbeddings\n",
        "from langchain.vectorstores import Chroma\n",
        "from langchain.chains import RetrievalQA\n",
        "from langchain.llms import OpenAI"
      ],
      "metadata": {
        "id": "fAVwC_8qwUkW"
      },
      "execution_count": null,
      "outputs": []
    },
    {
      "cell_type": "code",
      "source": [
        "loader = PyPDFLoader('INSIRA AQUI O SEU ARQUIVO PDF')\n",
        "documents = loader.load()"
      ],
      "metadata": {
        "id": "WlH0wcjDwksy"
      },
      "execution_count": null,
      "outputs": []
    },
    {
      "cell_type": "markdown",
      "source": [
        "## Exemplo com chroma db\n",
        "\n",
        "https://docs.trychroma.com/getting-started\n",
        "\n",
        "O Chroma é um banco de dados vetorial de código aberto que está rapidamente se tornando uma escolha popular para desenvolvedores que trabalham com aplicações de IA, especialmente aquelas que envolvem grandes modelos de linguagem (LLMs). Ele é projetado para facilitar o armazenamento, gerenciamento e recuperação de embeddings, que são representações matemáticas de dados, como texto ou imagens.\n",
        "\n",
        "\n",
        "\n"
      ],
      "metadata": {
        "id": "6nqGiIeW0Bbo"
      }
    },
    {
      "cell_type": "code",
      "source": [
        "# Instalando o chromadb\n",
        "!pip install chromadb"
      ],
      "metadata": {
        "id": "6gxwbUs_yvyt"
      },
      "execution_count": null,
      "outputs": []
    },
    {
      "cell_type": "code",
      "source": [
        "# Dividir os documentos em pedaços (chunks)\n",
        "text_splitter = CharacterTextSplitter(chunk_size=1000, chunk_overlap=0)\n",
        "texts = text_splitter.split_documents(documents)"
      ],
      "metadata": {
        "id": "jLBWpNqNwr9K"
      },
      "execution_count": null,
      "outputs": []
    },
    {
      "cell_type": "code",
      "source": [
        "# Criar embeddings (vetores a partir dos textos convertidos)\n",
        "embeddings = OpenAIEmbeddings(api_key='')\n",
        "db = Chroma.from_documents(texts, embeddings)"
      ],
      "metadata": {
        "id": "gLDz1mEU5kX2"
      },
      "execution_count": null,
      "outputs": []
    },
    {
      "cell_type": "code",
      "source": [
        "# Criar o Chain\n",
        "llm = OpenAI(api_key='')\n",
        "qa = RetrievalQA.from_chain_type(llm=llm, chain_type=\"stuff\", retriever=db.as_retriever())"
      ],
      "metadata": {
        "id": "UmGueY_5wQvo"
      },
      "execution_count": null,
      "outputs": []
    },
    {
      "cell_type": "code",
      "source": [
        "query = \"Qual é o tema principal do documento?\"\n",
        "answer = qa.invoke(query)\n",
        "print(answer)"
      ],
      "metadata": {
        "id": "DXBIFmqtySJi"
      },
      "execution_count": null,
      "outputs": []
    }
  ],
  "metadata": {
    "colab": {
      "provenance": [],
      "gpuType": "T4"
    },
    "language_info": {
      "name": "python"
    },
    "kernelspec": {
      "name": "python3",
      "display_name": "Python 3"
    },
    "accelerator": "GPU"
  },
  "nbformat": 4,
  "nbformat_minor": 0
}